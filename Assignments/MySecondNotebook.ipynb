{
  "nbformat": 4,
  "nbformat_minor": 0,
  "metadata": {
    "colab": {
      "provenance": [],
      "authorship_tag": "ABX9TyMYPCxR20U8Bmp2db0kVKRy",
      "include_colab_link": true
    },
    "kernelspec": {
      "name": "python3",
      "display_name": "Python 3"
    },
    "language_info": {
      "name": "python"
    }
  },
  "cells": [
    {
      "cell_type": "markdown",
      "metadata": {
        "id": "view-in-github",
        "colab_type": "text"
      },
      "source": [
        "<a href=\"https://colab.research.google.com/github/dilp90/AI_IB/blob/main/Assignments/MySecondNotebook.ipynb\" target=\"_parent\"><img src=\"https://colab.research.google.com/assets/colab-badge.svg\" alt=\"Open In Colab\"/></a>"
      ]
    },
    {
      "cell_type": "markdown",
      "source": [
        "# **This is my first google colab notebook**\n",
        "\n",
        "I am going to learn a lot this semester!"
      ],
      "metadata": {
        "id": "U1WTMQSuojaB"
      }
    },
    {
      "cell_type": "code",
      "source": [
        "print(\"Hello Worldddddddd!\")"
      ],
      "metadata": {
        "colab": {
          "base_uri": "https://localhost:8080/"
        },
        "id": "Htqqm_Zeoh3O",
        "outputId": "e5101c78-f065-42c6-8846-5d51677c26f4"
      },
      "execution_count": 19,
      "outputs": [
        {
          "output_type": "stream",
          "name": "stdout",
          "text": [
            "Hello Worldddddddd!\n"
          ]
        }
      ]
    }
  ]
}